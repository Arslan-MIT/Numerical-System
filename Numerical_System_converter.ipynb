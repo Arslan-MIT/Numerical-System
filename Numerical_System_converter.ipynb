{
  "nbformat": 4,
  "nbformat_minor": 0,
  "metadata": {
    "colab": {
      "provenance": [],
      "authorship_tag": "ABX9TyO93n6zzba7RlkabP6w0lSr",
      "include_colab_link": true
    },
    "kernelspec": {
      "name": "python3",
      "display_name": "Python 3"
    },
    "language_info": {
      "name": "python"
    }
  },
  "cells": [
    {
      "cell_type": "markdown",
      "metadata": {
        "id": "view-in-github",
        "colab_type": "text"
      },
      "source": [
        "<a href=\"https://colab.research.google.com/github/Arslan-MIT/Numerical-System/blob/main/Numerical_System_converter.ipynb\" target=\"_parent\"><img src=\"https://colab.research.google.com/assets/colab-badge.svg\" alt=\"Open In Colab\"/></a>"
      ]
    },
    {
      "cell_type": "code",
      "execution_count": null,
      "metadata": {
        "colab": {
          "base_uri": "https://localhost:8080/"
        },
        "id": "9ZN_xK07sfya",
        "outputId": "39f742b6-931f-434e-f2e7-4ad3d3d18340"
      },
      "outputs": [
        {
          "output_type": "stream",
          "name": "stdout",
          "text": [
            "Welcome to the Numerical Converter!\n",
            "Select the conversion type:\n",
            "1. Decimal to Binary\n",
            "2. Decimal to Octal\n",
            "3. Decimal to Hexadecimal\n",
            "4. Binary to Decimal\n",
            "5. Octal to Decimal\n",
            "6. Hexadecimal to Decimal\n"
          ]
        }
      ],
      "source": [
        "def decimal_to_binary(n):\n",
        "    return bin(n).replace(\"0b\", \"\")\n",
        "\n",
        "def decimal_to_octal(n):\n",
        "    return oct(n).replace(\"0o\", \"\")\n",
        "\n",
        "def decimal_to_hexadecimal(n):\n",
        "    return hex(n).replace(\"0x\", \"\").upper()\n",
        "\n",
        "def binary_to_decimal(b):\n",
        "    return int(b, 2)\n",
        "\n",
        "def octal_to_decimal(o):\n",
        "    return int(o, 8)\n",
        "\n",
        "def hexadecimal_to_decimal(h):\n",
        "    return int(h, 16)\n",
        "\n",
        "def numerical_converter():\n",
        "    print(\"Welcome to the Numerical Converter!\")\n",
        "    print(\"Select the conversion type:\")\n",
        "    print(\"1. Decimal to Binary\")\n",
        "    print(\"2. Decimal to Octal\")\n",
        "    print(\"3. Decimal to Hexadecimal\")\n",
        "    print(\"4. Binary to Decimal\")\n",
        "    print(\"5. Octal to Decimal\")\n",
        "    print(\"6. Hexadecimal to Decimal\")\n",
        "\n",
        "    choice = int(input(\"Enter your choice (1-6): \"))\n",
        "\n",
        "    if choice == 1:\n",
        "        num = int(input(\"Enter a decimal number: \"))\n",
        "        print(f\"Binary: {decimal_to_binary(num)}\")\n",
        "    elif choice == 2:\n",
        "        num = int(input(\"Enter a decimal number: \"))\n",
        "        print(f\"Octal: {decimal_to_octal(num)}\")\n",
        "    elif choice == 3:\n",
        "        num = int(input(\"Enter a decimal number: \"))\n",
        "        print(f\"Hexadecimal: {decimal_to_hexadecimal(num)}\")\n",
        "    elif choice == 4:\n",
        "        binary = input(\"Enter a binary number: \")\n",
        "        print(f\"Decimal: {binary_to_decimal(binary)}\")\n",
        "    elif choice == 5:\n",
        "        octal = input(\"Enter an octal number: \")\n",
        "        print(f\"Decimal: {octal_to_decimal(octal)}\")\n",
        "    elif choice == 6:\n",
        "        hexadecimal = input(\"Enter a hexadecimal number: \")\n",
        "        print(f\"Decimal: {hexadecimal_to_decimal(hexadecimal)}\")\n",
        "    else:\n",
        "        print(\"Invalid choice! Please try again.\")\n",
        "\n",
        "# Running the converter\n",
        "numerical_converter()\n"
      ]
    }
  ]
}